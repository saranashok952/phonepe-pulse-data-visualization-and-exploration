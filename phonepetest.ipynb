{
 "cells": [
  {
   "cell_type": "code",
   "execution_count": 1,
   "metadata": {},
   "outputs": [],
   "source": [
    "import os\n",
    "import json\n",
    "import pandas as pd\n",
    "import mysql.connector as sql\n",
    "import plotly.express as px"
   ]
  },
  {
   "cell_type": "code",
   "execution_count": 2,
   "metadata": {},
   "outputs": [],
   "source": [
    "#aggregated transaction of all states\n",
    "\n",
    "aggregated_transaction_path=\"C:/Users/dell/Downloads/Data Science/Untitled Folder/phonepe/pulse/data/aggregated/transaction/country/india/state/\"\n",
    "aggregated_transaction=os.listdir(aggregated_transaction_path)\n",
    "aggregated_transaction_column={\"states\":[],\"years\":[],\"quarters\":[],\"transaction_name\":[],\"transaction_count\":[],\"transaction_amount\":[]}\n",
    "for state_names in aggregated_transaction:\n",
    "\n",
    "    state = aggregated_transaction_path+state_names+\"/\"\n",
    "    aggregated_year=os.listdir(state)\n",
    "    \n",
    "    for year_name in aggregated_year:\n",
    "\n",
    "        year=state+year_name+\"/\"\n",
    "        aggregated_files=os.listdir(year)\n",
    "        \n",
    "        for file_name in aggregated_files:\n",
    "            file=year+file_name\n",
    "            data=open(file,\"r\")\n",
    "\n",
    "            aggregated_transaction_data=json.load(data)\n",
    "\n",
    "            for i in aggregated_transaction_data[\"data\"][\"transactionData\"]:\n",
    "                name=i[\"name\"]\n",
    "                count=i[\"paymentInstruments\"][0][\"count\"]\n",
    "                amount=i[\"paymentInstruments\"][0][\"amount\"]\n",
    "                aggregated_transaction_column[\"transaction_name\"].append(name)\n",
    "                aggregated_transaction_column[\"transaction_count\"].append(count)\n",
    "                aggregated_transaction_column[\"transaction_amount\"].append(amount)\n",
    "                aggregated_transaction_column[\"states\"].append(state_names)\n",
    "                aggregated_transaction_column[\"years\"].append(year_name)\n",
    "                aggregated_transaction_column[\"quarters\"].append(int(file_name.strip(\".json\")))\n",
    "final_aggregated_transaction=pd.DataFrame(aggregated_transaction_column)\n",
    "#print(final_aggregated_transaction)"
   ]
  },
  {
   "cell_type": "code",
   "execution_count": 3,
   "metadata": {},
   "outputs": [],
   "source": [
    "#aggregated users of all states\n",
    "\n",
    "aggregated_users_path=\"C:/Users/dell/Downloads/Data Science/Untitled Folder/phonepe/pulse/data/aggregated/user/country/india/state/\"\n",
    "aggregated_user=os.listdir(aggregated_users_path)\n",
    "\n",
    "aggregated_users_column={\"states\":[],\"years\":[],\"quarters\":[],\"brand\":[],\"count\":[],\"percentage\":[]}\n",
    "for state_names in aggregated_user:\n",
    "\n",
    "    state = aggregated_users_path+state_names+\"/\"\n",
    "    aggregated_year=os.listdir(state)\n",
    "    \n",
    "    for year_name in aggregated_year:\n",
    "\n",
    "        year=state+year_name+\"/\"\n",
    "        aggregated_files=os.listdir(year)\n",
    "        \n",
    "        for file_name in aggregated_files:\n",
    "            file=year+file_name\n",
    "            data=open(file,\"r\")\n",
    "\n",
    "            aggregated_users_data=json.load(data)\n",
    "            \n",
    "            try:\n",
    "                for i in aggregated_users_data[\"data\"][\"usersByDevice\"]:\n",
    "                    brand=i[\"brand\"]\n",
    "                    count=i[\"count\"]\n",
    "                    percentage=i[\"percentage\"]\n",
    "\n",
    "                    aggregated_users_column[\"brand\"].append(brand)\n",
    "                    aggregated_users_column[\"count\"].append(count)\n",
    "                    aggregated_users_column[\"percentage\"].append(percentage)\n",
    "                    aggregated_users_column[\"states\"].append(state_names)\n",
    "                    aggregated_users_column[\"years\"].append(year_name)\n",
    "                    aggregated_users_column[\"quarters\"].append(int(file_name.strip(\".json\")))\n",
    "\n",
    "            except:\n",
    "                pass\n",
    "final_aggregated_users=pd.DataFrame(aggregated_users_column)\n",
    "#print(final_aggregated_users)"
   ]
  },
  {
   "cell_type": "code",
   "execution_count": 4,
   "metadata": {},
   "outputs": [],
   "source": [
    "#map transaction of all states\n",
    "\n",
    "map_transaction_path=\"C:/Users/dell/Downloads/Data Science/Untitled Folder/phonepe/pulse/data/map/transaction/hover/country/india/state/\"\n",
    "map_transaction=os.listdir(map_transaction_path)\n",
    "\n",
    "map_transation_column={\"states\":[],\"years\":[],\"quarters\":[],\"district\":[],\"transaction_count\":[],\"transaction_amount\":[]}\n",
    "for state_names in map_transaction:\n",
    "\n",
    "    state = map_transaction_path+state_names+\"/\"\n",
    "    map_year=os.listdir(state)\n",
    "    \n",
    "    for year_name in map_year:\n",
    "\n",
    "        year=state+year_name+\"/\"\n",
    "        map_files=os.listdir(year)\n",
    "        \n",
    "        for file_name in map_files:\n",
    "            file=year+file_name\n",
    "            data=open(file,\"r\")\n",
    "\n",
    "            map_transaction_data=json.load(data)\n",
    "            for i in map_transaction_data:\n",
    "                district=map_transaction_data[\"data\"][\"hoverDataList\"][0][\"name\"]\n",
    "                count=map_transaction_data[\"data\"][\"hoverDataList\"][0][\"metric\"][0][\"count\"]\n",
    "                amount=map_transaction_data[\"data\"][\"hoverDataList\"][0][\"metric\"][0][\"amount\"]\n",
    "                map_transation_column[\"district\"].append(district)\n",
    "                map_transation_column[\"transaction_count\"].append(count)\n",
    "                map_transation_column[\"transaction_amount\"].append(amount)\n",
    "                map_transation_column[\"states\"].append(state_names)\n",
    "                map_transation_column[\"years\"].append(year_name)\n",
    "                map_transation_column[\"quarters\"].append(int(file_name.strip(\".json\")))\n",
    "final_map_transaction=pd.DataFrame(map_transation_column)\n",
    "#print(final_map_transaction)\n",
    "            "
   ]
  },
  {
   "cell_type": "code",
   "execution_count": 5,
   "metadata": {},
   "outputs": [],
   "source": [
    "#map users of all states\n",
    "\n",
    "map_users_path=\"C:/Users/dell/Downloads/Data Science/Untitled Folder/phonepe/pulse/data/map/user/hover/country/india/state/\"\n",
    "map_user=os.listdir(map_users_path)\n",
    "\n",
    "map_user_column={\"states\":[],\"years\":[],\"quarters\":[],\"district\":[],\"users\":[],\"app_opens\":[]}\n",
    "for state_names in map_user:\n",
    "\n",
    "    state = map_users_path+state_names+\"/\"\n",
    "    map_year=os.listdir(state)\n",
    "    \n",
    "    for year_name in map_year:\n",
    "\n",
    "        year=state+year_name+\"/\"\n",
    "        map_files=os.listdir(year)\n",
    "        \n",
    "        for file_name in map_files:\n",
    "            file=year+file_name\n",
    "            data=open(file,\"r\")\n",
    "\n",
    "            map_users_data=json.load(data)\n",
    "            for i in map_users_data[\"data\"][\"hoverData\"].items():\n",
    "                district=i[0]\n",
    "                users=i[1][\"registeredUsers\"]\n",
    "                app_opens=i[1][\"appOpens\"]\n",
    "                map_user_column[\"district\"].append(district)\n",
    "                map_user_column[\"users\"].append(users)\n",
    "                map_user_column[\"app_opens\"].append(app_opens)\n",
    "                map_user_column[\"states\"].append(state_names)\n",
    "                map_user_column[\"years\"].append(year_name)\n",
    "                map_user_column[\"quarters\"].append(int(file_name.strip(\".json\")))\n",
    "final_map_user=pd.DataFrame(map_user_column)\n",
    "#print(final_map_user)\n"
   ]
  },
  {
   "cell_type": "code",
   "execution_count": 6,
   "metadata": {},
   "outputs": [],
   "source": [
    "#top transaction for all states\n",
    "\n",
    "top_transaction_path=\"C:/Users/dell/Downloads/Data Science/Untitled Folder/phonepe/pulse/data/top/transaction/country/india/state/\"\n",
    "top_transaction=os.listdir(top_transaction_path)\n",
    "\n",
    "top_transaction_column={\"states\":[],\"years\":[],\"quarters\":[],\"pincode\":[],\"transaction_amount\":[],\"transaction_count\":[]}\n",
    "for state_names in top_transaction:\n",
    "\n",
    "    state = top_transaction_path+state_names+\"/\"\n",
    "    top_year=os.listdir(state)\n",
    "    \n",
    "    for year_name in top_year:\n",
    "\n",
    "        year=state+year_name+\"/\"\n",
    "        top_files=os.listdir(year)\n",
    "        \n",
    "        for file_name in top_files:\n",
    "            file=year+file_name\n",
    "            data=open(file,\"r\")\n",
    "\n",
    "            top_transaction_data=json.load(data)\n",
    "            for i in top_transaction_data[\"data\"][\"pincodes\"]:\n",
    "                entityName=i[\"entityName\"]\n",
    "                transaction_count=i[\"metric\"][\"count\"]\n",
    "                transaction_amount=i[\"metric\"][\"amount\"]\n",
    "                top_transaction_column[\"pincode\"].append(entityName)\n",
    "                top_transaction_column[\"transaction_amount\"].append(transaction_amount)\n",
    "                top_transaction_column[\"transaction_count\"].append(transaction_count)\n",
    "                top_transaction_column[\"states\"].append(state_names)\n",
    "                top_transaction_column[\"years\"].append(year_name)\n",
    "                top_transaction_column[\"quarters\"].append(int(file_name.strip(\".json\")))\n",
    "final_top_transaction=pd.DataFrame(top_transaction_column)\n",
    "#print(final_top_transaction)"
   ]
  },
  {
   "cell_type": "code",
   "execution_count": 7,
   "metadata": {},
   "outputs": [],
   "source": [
    "#top users for all states\n",
    "\n",
    "top_user_path=\"C:/Users/dell/Downloads/Data Science/Untitled Folder/phonepe/pulse/data/top/user/country/india/state/\"\n",
    "top_user=os.listdir(top_user_path)\n",
    "\n",
    "top_user_column={\"states\":[],\"years\":[],\"quarters\":[],\"pincode\":[],\"registeredUsers\":[]}\n",
    "for state_names in top_user:\n",
    "\n",
    "    state = top_user_path+state_names+\"/\"\n",
    "    top_year=os.listdir(state)\n",
    "    \n",
    "    for year_name in top_year:\n",
    "\n",
    "        year=state+year_name+\"/\"\n",
    "        top_files=os.listdir(year)\n",
    "        \n",
    "        for file_name in top_files:\n",
    "            file=year+file_name\n",
    "            data=open(file,\"r\")\n",
    "\n",
    "            top_user_data=json.load(data)\n",
    "            for i in top_user_data[\"data\"][\"pincodes\"]:\n",
    "                name=i[\"name\"]\n",
    "                registeredUsers=i[\"registeredUsers\"]\n",
    "                top_user_column[\"pincode\"].append(name)\n",
    "                top_user_column[\"registeredUsers\"].append(registeredUsers)\n",
    "                top_user_column[\"states\"].append(state_names)\n",
    "                top_user_column[\"years\"].append(year_name)\n",
    "                top_user_column[\"quarters\"].append(int(file_name.strip(\".json\")))\n",
    "final_top_users=pd.DataFrame(top_user_column)\n",
    "#print(final_top_users)\n"
   ]
  },
  {
   "cell_type": "code",
   "execution_count": 9,
   "metadata": {},
   "outputs": [],
   "source": [
    "final_aggregated_transaction.to_csv('final_aggregated_transaction.csv', index=False)\n",
    "final_aggregated_users.to_csv('final_aggregated_users.csv', index=False)\n",
    "final_map_transaction.to_csv('final_map_transaction.csv', index=False)\n",
    "final_map_user.to_csv('final_map_user.csv', index=False)\n",
    "final_top_transaction.to_csv('final_top_transaction.csv', index=False)\n",
    "final_top_users.to_csv('final_top_users.csv', index=False)"
   ]
  },
  {
   "cell_type": "code",
   "execution_count": 10,
   "metadata": {},
   "outputs": [],
   "source": [
    "config = {\n",
    "    'user': 'saran',\n",
    "    'password': 'root',\n",
    "    'host': 'localhost',\n",
    "    'port': '3306',\n",
    "    'database': 'phonepetest',\n",
    "    'raise_on_warnings': True,\n",
    "}"
   ]
  },
  {
   "cell_type": "code",
   "execution_count": 11,
   "metadata": {},
   "outputs": [],
   "source": [
    "mydb=sql.connect(**config)\n",
    "mycursor=mydb.cursor(buffered=True)"
   ]
  },
  {
   "cell_type": "code",
   "execution_count": 17,
   "metadata": {},
   "outputs": [
    {
     "data": {
      "text/plain": [
       "\"mycursor.execute('DROP TABLE IF EXISTS aggregated_transaction')\\nmycursor.execute('DROP TABLE IF EXISTS aggregated_user')\\nmycursor.execute('DROP TABLE IF EXISTS aggregated_insurance')\\nmycursor.execute('DROP TABLE IF EXISTS map_transaction')\\nmycursor.execute('DROP TABLE IF EXISTS map_user')\\nmycursor.execute('DROP TABLE IF EXISTS map_insurance')\\nmycursor.execute('DROP TABLE IF EXISTS top_transaction')\\nmycursor.execute('DROP TABLE IF EXISTS top_user')\\nmycursor.execute('DROP TABLE IF EXISTS top_insurance')\""
      ]
     },
     "execution_count": 17,
     "metadata": {},
     "output_type": "execute_result"
    }
   ],
   "source": [
    "\"\"\"mycursor.execute('DROP TABLE IF EXISTS aggregated_transaction')\n",
    "mycursor.execute('DROP TABLE IF EXISTS aggregated_user')\n",
    "mycursor.execute('DROP TABLE IF EXISTS aggregated_insurance')\n",
    "mycursor.execute('DROP TABLE IF EXISTS map_transaction')\n",
    "mycursor.execute('DROP TABLE IF EXISTS map_user')\n",
    "mycursor.execute('DROP TABLE IF EXISTS map_insurance')\n",
    "mycursor.execute('DROP TABLE IF EXISTS top_transaction')\n",
    "mycursor.execute('DROP TABLE IF EXISTS top_user')\n",
    "mycursor.execute('DROP TABLE IF EXISTS top_insurance')\"\"\""
   ]
  },
  {
   "cell_type": "code",
   "execution_count": 12,
   "metadata": {},
   "outputs": [],
   "source": [
    "mycursor.execute(\"create table if not exists aggregated_transaction (states varchar(100),years int, quarters int,transaction_name varchar(100), transaction_count int,transaction_amount double)\")\n",
    "for i,row in final_aggregated_transaction.iterrows():\n",
    "    sql = \"INSERT INTO aggregated_transaction VALUES (%s,%s,%s,%s,%s,%s)\"\n",
    "    mycursor.execute(sql, tuple(row))\n",
    "    mydb.commit()\n"
   ]
  },
  {
   "cell_type": "code",
   "execution_count": 13,
   "metadata": {},
   "outputs": [],
   "source": [
    "mycursor.execute(\"create table if not exists aggregated_user (states varchar(100),years int, quarters int,brand varchar(100), count int,percentage double)\")\n",
    "for i,row in final_aggregated_users.iterrows():\n",
    "    sql = \"INSERT INTO aggregated_user VALUES (%s,%s,%s,%s,%s,%s)\"\n",
    "    mycursor.execute(sql, tuple(row))\n",
    "    mydb.commit()\n"
   ]
  },
  {
   "cell_type": "code",
   "execution_count": 14,
   "metadata": {},
   "outputs": [],
   "source": [
    "mycursor.execute(\"create table if not exists map_transaction (states varchar(100),years int, quarters int,district varchar(100), transaction_count int,transaction_amount double)\")\n",
    "for i,row in final_map_transaction.iterrows():\n",
    "    sql = \"INSERT INTO map_transaction VALUES (%s,%s,%s,%s,%s,%s)\"\n",
    "    mycursor.execute(sql, tuple(row))\n",
    "    mydb.commit()\n"
   ]
  },
  {
   "cell_type": "code",
   "execution_count": 15,
   "metadata": {},
   "outputs": [],
   "source": [
    "mycursor.execute(\"create table if not exists map_user (states varchar(100),years int, quarters int,district varchar(100), users int,app_opens int)\")\n",
    "for i,row in final_map_user.iterrows():\n",
    "    sql = \"INSERT INTO map_user VALUES (%s,%s,%s,%s,%s,%s)\"\n",
    "    mycursor.execute(sql, tuple(row))\n",
    "    mydb.commit()\n"
   ]
  },
  {
   "cell_type": "code",
   "execution_count": 16,
   "metadata": {},
   "outputs": [],
   "source": [
    "mycursor.execute(\"create table if not exists top_transaction (states varchar(100),years int, quarters int,pincode int,transaction_amount double, transaction_count int)\")\n",
    "for i,row in final_top_transaction.iterrows():\n",
    "    sql = \"INSERT INTO top_transaction VALUES (%s,%s,%s,%s,%s,%s)\"\n",
    "    mycursor.execute(sql, tuple(row))\n",
    "    mydb.commit()\n"
   ]
  },
  {
   "cell_type": "code",
   "execution_count": 17,
   "metadata": {},
   "outputs": [],
   "source": [
    "mycursor.execute(\"create table if not exists top_user (states varchar(100),years int, quarters int,pincode int,registeredUsers int)\")\n",
    "for i,row in final_top_users.iterrows():\n",
    "    sql = \"INSERT INTO top_user VALUES (%s,%s,%s,%s,%s)\"\n",
    "    mycursor.execute(sql, tuple(row))\n",
    "    mydb.commit()\n"
   ]
  },
  {
   "cell_type": "code",
   "execution_count": 18,
   "metadata": {},
   "outputs": [
    {
     "data": {
      "text/plain": [
       "[('aggregated_transaction',),\n",
       " ('aggregated_user',),\n",
       " ('map_transaction',),\n",
       " ('map_user',),\n",
       " ('top_transaction',),\n",
       " ('top_user',)]"
      ]
     },
     "execution_count": 18,
     "metadata": {},
     "output_type": "execute_result"
    }
   ],
   "source": [
    "mycursor.execute(\"show tables;\")\n",
    "mycursor.fetchall()"
   ]
  },
  {
   "cell_type": "code",
   "execution_count": 19,
   "metadata": {},
   "outputs": [],
   "source": [
    "pd.set_option('display.max_columns', None)\n",
    "pd.set_option('display.max_rows', None)"
   ]
  }
 ],
 "metadata": {
  "kernelspec": {
   "display_name": "Python 3",
   "language": "python",
   "name": "python3"
  },
  "language_info": {
   "codemirror_mode": {
    "name": "ipython",
    "version": 3
   },
   "file_extension": ".py",
   "mimetype": "text/x-python",
   "name": "python",
   "nbconvert_exporter": "python",
   "pygments_lexer": "ipython3",
   "version": "3.12.1"
  }
 },
 "nbformat": 4,
 "nbformat_minor": 2
}
